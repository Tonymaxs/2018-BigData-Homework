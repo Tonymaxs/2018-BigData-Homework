{
 "cells": [
  {
   "cell_type": "code",
   "execution_count": 1,
   "metadata": {},
   "outputs": [],
   "source": [
    "import pyodbc"
   ]
  },
  {
   "cell_type": "code",
   "execution_count": 2,
   "metadata": {},
   "outputs": [],
   "source": [
    "Server = '127.0.0.1'"
   ]
  },
  {
   "cell_type": "code",
   "execution_count": 8,
   "metadata": {},
   "outputs": [],
   "source": [
    "Database = 'KCWin'"
   ]
  },
  {
   "cell_type": "code",
   "execution_count": 9,
   "metadata": {},
   "outputs": [],
   "source": [
    "username ='sa'"
   ]
  },
  {
   "cell_type": "code",
   "execution_count": 14,
   "metadata": {},
   "outputs": [],
   "source": [
    "password = 'Opc.net'"
   ]
  },
  {
   "cell_type": "code",
   "execution_count": 15,
   "metadata": {},
   "outputs": [],
   "source": [
    "table_name = 'Data_M'"
   ]
  },
  {
   "cell_type": "code",
   "execution_count": 16,
   "metadata": {},
   "outputs": [],
   "source": [
    "cnxn = pyodbc.connect(\"Driver={SQL Server Native Client 11.0};\"\n",
    "                      \"Server=\"+Server+\";\"\n",
    "                      \"Database=\"+Database+\";\"\n",
    "                      \"uid=\"+username+\";pwd=\"+password+\"\")"
   ]
  },
  {
   "cell_type": "code",
   "execution_count": 17,
   "metadata": {},
   "outputs": [],
   "source": [
    "cursor = cnxn.cursor()"
   ]
  },
  {
   "cell_type": "code",
   "execution_count": 19,
   "metadata": {},
   "outputs": [
    {
     "data": {
      "text/plain": [
       "<pyodbc.Cursor at 0x3d60fe9120>"
      ]
     },
     "execution_count": 19,
     "metadata": {},
     "output_type": "execute_result"
    }
   ],
   "source": [
    "cursor.execute('SELECT * FROM ' +table_name+'')"
   ]
  },
  {
   "cell_type": "code",
   "execution_count": 21,
   "metadata": {},
   "outputs": [
    {
     "name": "stdout",
     "output_type": "stream",
     "text": [
      "data = ('                    ', '0', '20160122', '140959', '01', '01', '10', Decimal('12.1500'), Decimal('-4.3500'), Decimal('-6.0600'), Decimal('-0.1400'), Decimal('-0.3100'), Decimal('0.0000'), Decimal('11.1600'), Decimal('4.5900'), Decimal('6.1000'), Decimal('0.0300'), Decimal('0.3100'), Decimal('0.1500'), Decimal('11.3200'), Decimal('-3.9400'), Decimal('-6.0600'), Decimal('-0.0900'), Decimal('-0.2700'), Decimal('-0.1000'), Decimal('12.2200'), Decimal('4.4300'), Decimal('5.9700'), Decimal('0.1700'), Decimal('0.2600'), Decimal('-0.0300'), Decimal('11.8100'), Decimal('-4.5100'), Decimal('-6.0200'), Decimal('-0.0300'), Decimal('-0.4100'), Decimal('0.1000'), Decimal('11.6500'), Decimal('4.5900'), Decimal('5.9300'), Decimal('0.0700'), Decimal('0.3600'), Decimal('0.0300'))\n",
      "data = ('                    ', '0', '20160121', '140943', '01', '01', '10', Decimal('12.0600'), Decimal('-4.3500'), Decimal('-6.0200'), Decimal('-0.1400'), Decimal('-0.3100'), Decimal('-0.0300'), Decimal('11.0700'), Decimal('4.5100'), Decimal('6.1000'), Decimal('0.0300'), Decimal('0.2900'), Decimal('0.1400'), Decimal('11.4000'), Decimal('-3.9400'), Decimal('-6.1000'), Decimal('-0.0900'), Decimal('-0.2700'), Decimal('-0.1400'), Decimal('12.3000'), Decimal('4.3500'), Decimal('5.9700'), Decimal('0.1700'), Decimal('0.2600'), Decimal('-0.0300'), Decimal('11.8100'), Decimal('-4.5100'), Decimal('-6.0200'), Decimal('-0.0300'), Decimal('-0.4100'), Decimal('0.1000'), Decimal('11.6500'), Decimal('4.5900'), Decimal('5.9300'), Decimal('0.0700'), Decimal('0.3600'), Decimal('0.0300'))\n",
      "data = ('                    ', '0', '20160121', '140944', '01', '01', '10', Decimal('12.0600'), Decimal('-4.2700'), Decimal('-6.0600'), Decimal('-0.1500'), Decimal('-0.2900'), Decimal('-0.0200'), Decimal('11.1600'), Decimal('4.5900'), Decimal('6.1000'), Decimal('0.0300'), Decimal('0.2900'), Decimal('0.1400'), Decimal('11.4000'), Decimal('-3.9400'), Decimal('-6.1000'), Decimal('-0.0900'), Decimal('-0.2700'), Decimal('-0.1200'), Decimal('12.3000'), Decimal('4.5100'), Decimal('5.9700'), Decimal('0.1700'), Decimal('0.2600'), Decimal('0.0000'), Decimal('11.8900'), Decimal('-4.5100'), Decimal('-6.0200'), Decimal('-0.0300'), Decimal('-0.4100'), Decimal('0.0900'), Decimal('11.6500'), Decimal('4.5900'), Decimal('5.9300'), Decimal('0.0700'), Decimal('0.3600'), Decimal('0.0300'))\n",
      "data = ('                    ', '0', '20160121', '140946', '01', '01', '10', Decimal('12.0600'), Decimal('-4.3500'), Decimal('-6.0200'), Decimal('-0.1400'), Decimal('-0.3100'), Decimal('-0.0200'), Decimal('11.0700'), Decimal('4.5100'), Decimal('6.0200'), Decimal('0.0300'), Decimal('0.2900'), Decimal('0.1400'), Decimal('11.4000'), Decimal('-4.0200'), Decimal('-6.0600'), Decimal('-0.1000'), Decimal('-0.2900'), Decimal('-0.1400'), Decimal('12.3000'), Decimal('4.4300'), Decimal('5.9700'), Decimal('0.1700'), Decimal('0.2600'), Decimal('-0.0200'), Decimal('11.8100'), Decimal('-4.5100'), Decimal('-5.9700'), Decimal('-0.0300'), Decimal('-0.4100'), Decimal('0.1000'), Decimal('11.6500'), Decimal('4.5900'), Decimal('5.9300'), Decimal('0.0700'), Decimal('0.3600'), Decimal('0.0300'))\n",
      "data = ('                    ', '0', '20160121', '140948', '01', '02', '10', Decimal('12.1400'), Decimal('-4.3500'), Decimal('-6.0600'), Decimal('-0.1400'), Decimal('-0.2900'), Decimal('0.0000'), Decimal('11.1600'), Decimal('4.5100'), Decimal('6.1000'), Decimal('0.0300'), Decimal('0.2900'), Decimal('0.1400'), Decimal('11.4800'), Decimal('-3.9400'), Decimal('-6.0600'), Decimal('-0.1000'), Decimal('-0.2900'), Decimal('-0.1000'), Decimal('12.3000'), Decimal('4.4300'), Decimal('5.9700'), Decimal('0.1700'), Decimal('0.2600'), Decimal('-0.0300'), Decimal('11.8100'), Decimal('-4.5100'), Decimal('-6.0200'), Decimal('-0.0300'), Decimal('-0.4100'), Decimal('0.1000'), Decimal('11.5700'), Decimal('4.5900'), Decimal('5.9300'), Decimal('0.0700'), Decimal('0.3400'), Decimal('0.0300'))\n",
      "data = ('                    ', '0', '20160121', '140949', '01', '01', '10', Decimal('12.0600'), Decimal('-4.3500'), Decimal('-6.0600'), Decimal('-0.1400'), Decimal('-0.2900'), Decimal('-0.0200'), Decimal('11.1600'), Decimal('4.5900'), Decimal('6.1000'), Decimal('0.0500'), Decimal('0.2900'), Decimal('0.1400'), Decimal('11.4000'), Decimal('-3.9400'), Decimal('-6.1000'), Decimal('-0.0900'), Decimal('-0.2700'), Decimal('-0.1200'), Decimal('12.2200'), Decimal('4.5100'), Decimal('6.0200'), Decimal('0.1700'), Decimal('0.2600'), Decimal('0.0000'), Decimal('11.8100'), Decimal('-4.5100'), Decimal('-5.9700'), Decimal('-0.0300'), Decimal('-0.4100'), Decimal('0.1000'), Decimal('11.6500'), Decimal('4.5900'), Decimal('5.9300'), Decimal('0.0700'), Decimal('0.3600'), Decimal('0.0300'))\n",
      "data = ('                    ', '0', '20160121', '140951', '01', '01', '10', Decimal('12.0600'), Decimal('-4.3500'), Decimal('-6.0600'), Decimal('-0.1500'), Decimal('-0.3100'), Decimal('-0.0200'), Decimal('11.1600'), Decimal('4.5900'), Decimal('6.1000'), Decimal('0.0500'), Decimal('0.2900'), Decimal('0.1400'), Decimal('11.4000'), Decimal('-3.9400'), Decimal('-6.1000'), Decimal('-0.0900'), Decimal('-0.2900'), Decimal('-0.1000'), Decimal('12.3000'), Decimal('4.4300'), Decimal('5.9700'), Decimal('0.1900'), Decimal('0.2600'), Decimal('0.0000'), Decimal('11.8100'), Decimal('-4.5100'), Decimal('-6.0200'), Decimal('-0.0500'), Decimal('-0.4100'), Decimal('0.0900'), Decimal('11.6500'), Decimal('4.5900'), Decimal('5.9300'), Decimal('0.0700'), Decimal('0.3600'), Decimal('0.0300'))\n",
      "data = ('                    ', '0', '20160121', '140952', '01', '02', '10', Decimal('12.0600'), Decimal('-4.2700'), Decimal('-6.0200'), Decimal('-0.1400'), Decimal('-0.3100'), Decimal('-0.0200'), Decimal('11.1600'), Decimal('4.5900'), Decimal('6.1000'), Decimal('0.0300'), Decimal('0.2900'), Decimal('0.1400'), Decimal('11.4000'), Decimal('-3.9400'), Decimal('-6.1000'), Decimal('-0.0900'), Decimal('-0.2900'), Decimal('-0.1000'), Decimal('12.3000'), Decimal('4.5100'), Decimal('6.0200'), Decimal('0.1700'), Decimal('0.2600'), Decimal('-0.0300'), Decimal('11.8900'), Decimal('-4.5100'), Decimal('-6.0200'), Decimal('-0.0300'), Decimal('-0.4100'), Decimal('0.0900'), Decimal('11.6500'), Decimal('4.6800'), Decimal('5.9300'), Decimal('0.0500'), Decimal('0.3600'), Decimal('0.0300'))\n",
      "data = ('                    ', '0', '20160121', '140954', '01', '03', '10', Decimal('12.0600'), Decimal('-4.2700'), Decimal('-6.0600'), Decimal('-0.1400'), Decimal('-0.2900'), Decimal('-0.0300'), Decimal('11.1600'), Decimal('4.5900'), Decimal('6.1500'), Decimal('0.0300'), Decimal('0.2900'), Decimal('0.1400'), Decimal('11.4800'), Decimal('-4.0200'), Decimal('-6.1000'), Decimal('-0.0900'), Decimal('-0.2700'), Decimal('-0.1000'), Decimal('12.3000'), Decimal('4.4300'), Decimal('5.9700'), Decimal('0.1700'), Decimal('0.2600'), Decimal('0.0000'), Decimal('11.8100'), Decimal('-4.5100'), Decimal('-6.0200'), Decimal('-0.0300'), Decimal('-0.4100'), Decimal('0.1000'), Decimal('11.5700'), Decimal('4.5900'), Decimal('5.9700'), Decimal('0.0700'), Decimal('0.3600'), Decimal('0.0300'))\n",
      "data = ('                    ', '0', '20160121', '140956', '01', '01', '10', Decimal('12.0600'), Decimal('-4.4300'), Decimal('-6.0200'), Decimal('-0.1500'), Decimal('-0.3100'), Decimal('-0.0200'), Decimal('11.1600'), Decimal('4.5900'), Decimal('6.1000'), Decimal('0.0300'), Decimal('0.2900'), Decimal('0.1400'), Decimal('11.4000'), Decimal('-3.9400'), Decimal('-6.1000'), Decimal('-0.0900'), Decimal('-0.2700'), Decimal('-0.1000'), Decimal('12.3000'), Decimal('4.4300'), Decimal('5.9700'), Decimal('0.1700'), Decimal('0.2600'), Decimal('0.0000'), Decimal('11.8100'), Decimal('-4.5100'), Decimal('-6.0200'), Decimal('-0.0300'), Decimal('-0.4100'), Decimal('0.0900'), Decimal('11.5700'), Decimal('4.6800'), Decimal('5.9300'), Decimal('0.0700'), Decimal('0.3600'), Decimal('0.0300'))\n",
      "data = ('                    ', '0', '20160121', '140957', '01', '01', '10', Decimal('12.1400'), Decimal('-4.3500'), Decimal('-6.0600'), Decimal('-0.1400'), Decimal('-0.3100'), Decimal('0.0000'), Decimal('11.1600'), Decimal('4.5900'), Decimal('6.1000'), Decimal('0.0300'), Decimal('0.3100'), Decimal('0.1500'), Decimal('11.3200'), Decimal('-3.9400'), Decimal('-6.0600'), Decimal('-0.0900'), Decimal('-0.2700'), Decimal('-0.1000'), Decimal('12.2200'), Decimal('4.4300'), Decimal('5.9700'), Decimal('0.1700'), Decimal('0.2600'), Decimal('-0.0300'), Decimal('11.8100'), Decimal('-4.5100'), Decimal('-6.0200'), Decimal('-0.0300'), Decimal('-0.4100'), Decimal('0.1000'), Decimal('11.6500'), Decimal('4.5900'), Decimal('5.9300'), Decimal('0.0700'), Decimal('0.3600'), Decimal('0.0300'))\n"
     ]
    }
   ],
   "source": [
    "for data in cursor:\n",
    "    print('data = %r' % (data,))"
   ]
  },
  {
   "cell_type": "code",
   "execution_count": null,
   "metadata": {},
   "outputs": [],
   "source": []
  }
 ],
 "metadata": {
  "kernelspec": {
   "display_name": "Python 3",
   "language": "python",
   "name": "python3"
  },
  "language_info": {
   "codemirror_mode": {
    "name": "ipython",
    "version": 3
   },
   "file_extension": ".py",
   "mimetype": "text/x-python",
   "name": "python",
   "nbconvert_exporter": "python",
   "pygments_lexer": "ipython3",
   "version": "3.6.5"
  }
 },
 "nbformat": 4,
 "nbformat_minor": 2
}
