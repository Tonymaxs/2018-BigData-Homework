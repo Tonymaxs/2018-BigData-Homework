{
 "cells": [
  {
   "cell_type": "code",
   "execution_count": 1,
   "metadata": {},
   "outputs": [
    {
     "name": "stderr",
     "output_type": "stream",
     "text": [
      "C:\\Users\\youngtec\\Anaconda3\\lib\\site-packages\\h5py\\__init__.py:36: FutureWarning: Conversion of the second argument of issubdtype from `float` to `np.floating` is deprecated. In future, it will be treated as `np.float64 == np.dtype(float).type`.\n",
      "  from ._conv import register_converters as _register_converters\n",
      "Using TensorFlow backend.\n"
     ]
    }
   ],
   "source": [
    "import json\n",
    "import requests\n",
    "import pandas as pd\n",
    "import matplotlib.pyplot as plt\n",
    "import numpy as np\n",
    "import os\n",
    "import pickle \n",
    "import quandl\n",
    "import codecs\n",
    "from datetime import datetime\n",
    "from keras.models import Sequential\n",
    "from keras.layers.recurrent import LSTM\n",
    "from keras.layers import Dropout\n",
    "from keras.layers import Dense\n",
    "from keras.layers import Activation"
   ]
  },
  {
   "cell_type": "markdown",
   "metadata": {},
   "source": [
    "# 先定義幾個子函數"
   ]
  },
  {
   "cell_type": "markdown",
   "metadata": {},
   "source": [
    "### 下載來自Quandl的資料集"
   ]
  },
  {
   "cell_type": "code",
   "execution_count": 2,
   "metadata": {},
   "outputs": [],
   "source": [
    "def get_quandl_data(quandl_id):\n",
    "    '''Download and cache Quandl dataseries''' \n",
    "    cache_path = '{}.pkl'.format(quandl_id).replace('/','-') \n",
    "    \n",
    "    #Enter quandl API Key\n",
    "    quandl.ApiConfig.api_key = \"zQm4uFHeJru86SyaLs6v\"\n",
    "    \n",
    "    print('Downloading {} from Quandl'.format(quandl_id)) \n",
    "    df = quandl.get(quandl_id, returns=\"pandas\") \n",
    "    df.to_pickle(cache_path) \n",
    "    print('Cached {} at {}'.format(quandl_id, cache_path)) \n",
    "    return df"
   ]
  },
  {
   "cell_type": "markdown",
   "metadata": {},
   "source": [
    "### 從不同的DataFrame萃取出特定的欄位合併成新的DataFrame"
   ]
  },
  {
   "cell_type": "code",
   "execution_count": 3,
   "metadata": {},
   "outputs": [],
   "source": [
    "def merge_dfs_on_column(dataframes, labels, col):\n",
    "    '''Merge a single column of each dataframe into a new combined dataframe''' \n",
    "    series_dict = {} \n",
    "    for index in range(len(dataframes)): \n",
    "        series_dict[labels[index]] = dataframes[index][col] \n",
    "    return pd.DataFrame(series_dict)"
   ]
  },
  {
   "cell_type": "markdown",
   "metadata": {},
   "source": [
    "### 從Poloniex抓取更多其他虛擬貨幣的價格"
   ]
  },
  {
   "cell_type": "markdown",
   "metadata": {},
   "source": [
    "#### 讀取JSON檔"
   ]
  },
  {
   "cell_type": "code",
   "execution_count": 4,
   "metadata": {},
   "outputs": [],
   "source": [
    "def get_json_data(json_url, cache_path):\n",
    "    '''Download and cache JSON data, return as a dataframe.''' \n",
    "    print('Downloading {}'.format(json_url)) \n",
    "    #df = pd.read_json(codecs.open(json_url,'r','utf-8'))\n",
    "    df = pd.read_json(json_url) \n",
    "    df.to_pickle(cache_path) \n",
    "    print('Cached {} at {}'.format(json_url, cache_path)) \n",
    "    return df"
   ]
  },
  {
   "cell_type": "markdown",
   "metadata": {},
   "source": [
    "#### Poloniex抓取資料"
   ]
  },
  {
   "cell_type": "code",
   "execution_count": 5,
   "metadata": {},
   "outputs": [],
   "source": [
    "def get_crypto_data(poloniex_pair): \n",
    "    base_polo_url = 'https://poloniex.com/public?command=returnChartData&currencyPair={}&start={}&end={}&period={}' \n",
    "    start_date = datetime.strptime('2016-01-01', '%Y-%m-%d') # get data from the start of 2016\n",
    "    end_date = datetime.now() # up until today\n",
    "    pediod = 86400 # pull daily data (86,400 seconds per day) \n",
    "    '''Retrieve cryptocurrency data from poloniex''' \n",
    "    json_url = base_polo_url.format(poloniex_pair, start_date.timestamp(), end_date.timestamp(), pediod) \n",
    "    data_df = get_json_data(json_url, poloniex_pair) \n",
    "    data_df = data_df.set_index('date')\n",
    "    return data_df "
   ]
  },
  {
   "cell_type": "code",
   "execution_count": null,
   "metadata": {},
   "outputs": [],
   "source": []
  },
  {
   "cell_type": "code",
   "execution_count": 6,
   "metadata": {},
   "outputs": [],
   "source": [
    "def train_test_split(df, test_size=0.1):\n",
    "    split_row = len(df) - int(test_size * len(df))\n",
    "    train_data = df.iloc[:split_row]\n",
    "    test_data = df.iloc[split_row:]\n",
    "    return train_data, test_data"
   ]
  },
  {
   "cell_type": "code",
   "execution_count": 7,
   "metadata": {},
   "outputs": [],
   "source": [
    "def line_plot(line1, line2, label1=None, label2=None, title=''):\n",
    "    fig, ax = plt.subplots(1, figsize=(16, 9))\n",
    "    ax.plot(line1, label=label1, linewidth=2)\n",
    "    ax.plot(line2, label=label2, linewidth=2)\n",
    "    ax.set_ylabel('price [USD]', fontsize=14)\n",
    "    ax.set_title(title, fontsize=18)\n",
    "    ax.legend(loc='best', fontsize=18)"
   ]
  },
  {
   "cell_type": "code",
   "execution_count": 8,
   "metadata": {},
   "outputs": [],
   "source": [
    "def normalise_zero_base(df):\n",
    "    \"\"\" Normalise dataframe column-wise to reflect changes with\n",
    "        respect to first entry.\n",
    "    \"\"\"\n",
    "    return df / df.iloc[0] - 1"
   ]
  },
  {
   "cell_type": "code",
   "execution_count": 9,
   "metadata": {},
   "outputs": [],
   "source": [
    "def extract_window_data(df, window=14, zero_base=True):\n",
    "    \"\"\" Convert dataframe to overlapping sequences/windows of\n",
    "        length `window`.\n",
    "    \"\"\"\n",
    "    window_data = []\n",
    "    for idx in range(len(df) - window):\n",
    "        tmp = df[idx: (idx + window)].copy()\n",
    "        if zero_base:\n",
    "            tmp = normalise_zero_base(tmp)\n",
    "        window_data.append(tmp.values)\n",
    "    return np.array(window_data)"
   ]
  },
  {
   "cell_type": "code",
   "execution_count": 10,
   "metadata": {},
   "outputs": [],
   "source": [
    "def prepare_data(df, window=14, zero_base=True, test_size=0.1):\n",
    "    \"\"\" Prepare data for LSTM. \"\"\"\n",
    "    # train test split\n",
    "    train_data, test_data = train_test_split(df, test_size)\n",
    "    \n",
    "    # extract window data\n",
    "    X_train = extract_window_data(train_data, window, zero_base)\n",
    "    X_test = extract_window_data(test_data, window, zero_base)\n",
    "    \n",
    "    # extract targets\n",
    "    y_train = train_data.average[window:].values\n",
    "    y_test = test_data.average[window:].values\n",
    "    if zero_base:\n",
    "        y_train = y_train / train_data.average[:-window].values - 1\n",
    "        y_test = y_test / test_data.average[:-window].values - 1\n",
    "    return train_data, test_data, X_train, X_test, y_train, y_test"
   ]
  },
  {
   "cell_type": "code",
   "execution_count": 11,
   "metadata": {},
   "outputs": [],
   "source": [
    "def build_lstm_model(input_data, output_size, neurons=20,\n",
    "                     activ_func='linear', dropout=0.25,\n",
    "                     loss='mae', optimizer='adam'):\n",
    "    model = Sequential()\n",
    "    model.add(LSTM(neurons, input_shape=(\n",
    "              input_data.shape[1], input_data.shape[2])))\n",
    "    model.add(Dropout(dropout))\n",
    "    model.add(Dense(units=output_size))\n",
    "    model.add(Activation(activ_func))\n",
    "    model.compile(loss=loss, optimizer=optimizer)\n",
    "    return model"
   ]
  },
  {
   "cell_type": "markdown",
   "metadata": {},
   "source": [
    "# 開始抓取資料"
   ]
  },
  {
   "cell_type": "code",
   "execution_count": 12,
   "metadata": {},
   "outputs": [
    {
     "name": "stdout",
     "output_type": "stream",
     "text": [
      "Downloading BCHARTS/COINBASEUSD from Quandl\n",
      "Cached BCHARTS/COINBASEUSD at BCHARTS-COINBASEUSD.pkl\n",
      "Downloading BCHARTS/BITSTAMPUSD from Quandl\n",
      "Cached BCHARTS/BITSTAMPUSD at BCHARTS-BITSTAMPUSD.pkl\n",
      "Downloading BCHARTS/ITBITUSD from Quandl\n",
      "Cached BCHARTS/ITBITUSD at BCHARTS-ITBITUSD.pkl\n",
      "Downloading BCHARTS/KRAKENUSD from Quandl\n",
      "Cached BCHARTS/KRAKENUSD at BCHARTS-KRAKENUSD.pkl\n"
     ]
    }
   ],
   "source": [
    "# Pull pricing data form 4 BTC exchanges \n",
    "exchanges = ['COINBASE','BITSTAMP','ITBIT','KRAKEN'] \n",
    "exchange_data = {} \n",
    "for exchange in exchanges: \n",
    "    exchange_code = 'BCHARTS/{}USD'.format(exchange) \n",
    "    btc_exchange_df = get_quandl_data(exchange_code) \n",
    "    exchange_data[exchange] = btc_exchange_df "
   ]
  },
  {
   "cell_type": "code",
   "execution_count": 13,
   "metadata": {},
   "outputs": [],
   "source": [
    "# merge the  BTC price dataseries' into a single dataframe\n",
    "btc_usd_datasets = merge_dfs_on_column(list(exchange_data.values()), list(exchange_data.keys()), 'Weighted Price')\n",
    "# extract data after 2016\n",
    "btc_usd_datasets = btc_usd_datasets.loc[btc_usd_datasets.index >= '2016-01-01']\n",
    "# Remove \"0\" values \n",
    "btc_usd_datasets.replace(0, np.nan, inplace=True)\n",
    "# replace nan with row mean\n",
    "fill_value = pd.DataFrame({col: btc_usd_datasets.mean(axis=1) for col in btc_usd_datasets.columns})\n",
    "btc_usd_datasets = btc_usd_datasets.fillna(value=fill_value)\n",
    "#\n",
    "btc_usd_datasets['average'] = btc_usd_datasets.mean(axis=1)"
   ]
  },
  {
   "cell_type": "code",
   "execution_count": 14,
   "metadata": {},
   "outputs": [],
   "source": [
    "#btc_usd_datasets"
   ]
  },
  {
   "cell_type": "code",
   "execution_count": 15,
   "metadata": {},
   "outputs": [
    {
     "name": "stdout",
     "output_type": "stream",
     "text": [
      "Downloading https://poloniex.com/public?command=returnChartData&currencyPair=USDT_ETH&start=1451577600.0&end=1559811181.604878&period=86400\n",
      "Cached https://poloniex.com/public?command=returnChartData&currencyPair=USDT_ETH&start=1451577600.0&end=1559811181.604878&period=86400 at USDT_ETH\n",
      "Downloading https://poloniex.com/public?command=returnChartData&currencyPair=USDT_LTC&start=1451577600.0&end=1559811183.525224&period=86400\n",
      "Cached https://poloniex.com/public?command=returnChartData&currencyPair=USDT_LTC&start=1451577600.0&end=1559811183.525224&period=86400 at USDT_LTC\n",
      "Downloading https://poloniex.com/public?command=returnChartData&currencyPair=USDT_XRP&start=1451577600.0&end=1559811184.132671&period=86400\n",
      "Cached https://poloniex.com/public?command=returnChartData&currencyPair=USDT_XRP&start=1451577600.0&end=1559811184.132671&period=86400 at USDT_XRP\n",
      "Downloading https://poloniex.com/public?command=returnChartData&currencyPair=USDT_XMR&start=1451577600.0&end=1559811184.729075&period=86400\n",
      "Cached https://poloniex.com/public?command=returnChartData&currencyPair=USDT_XMR&start=1451577600.0&end=1559811184.729075&period=86400 at USDT_XMR\n"
     ]
    }
   ],
   "source": [
    "# 從Poloniex下載交易資料 我們將下載4個虛擬貨幣： Ethereum，Litecoin，Ripple，Monero的交易資料\n",
    "altcoins = ['ETH','LTC','XRP','XMR']\n",
    "altcoin_data = {}\n",
    "for altcoin in altcoins:\n",
    "    coinpair = 'USDT_{}'.format(altcoin)\n",
    "    crypto_price_df = get_crypto_data(coinpair)\n",
    "    altcoin_data[altcoin] = crypto_price_df"
   ]
  },
  {
   "cell_type": "code",
   "execution_count": 16,
   "metadata": {},
   "outputs": [],
   "source": [
    "# merge price dataseries' into a single dataframe\n",
    "altcoin_usd_datasets = merge_dfs_on_column(list(altcoin_data.values()), list(altcoin_data.keys()), 'weightedAverage')\n",
    "# Remove \"0\" values \n",
    "altcoin_usd_datasets.replace(0, np.nan, inplace=True)"
   ]
  },
  {
   "cell_type": "code",
   "execution_count": 17,
   "metadata": {},
   "outputs": [],
   "source": [
    "#altcoin_usd_datasets"
   ]
  },
  {
   "cell_type": "code",
   "execution_count": 18,
   "metadata": {},
   "outputs": [],
   "source": [
    "hist = pd.merge(btc_usd_datasets,altcoin_usd_datasets, left_index=True, right_index=True)"
   ]
  },
  {
   "cell_type": "code",
   "execution_count": 19,
   "metadata": {},
   "outputs": [],
   "source": [
    "train, test = train_test_split(hist, test_size=0.1)"
   ]
  },
  {
   "cell_type": "code",
   "execution_count": 20,
   "metadata": {},
   "outputs": [
    {
     "data": {
      "image/png": "[encoded data removed]",
      "text/plain": [
       "<Figure size 1152x648 with 1 Axes>"
      ]
     },
     "metadata": {},
     "output_type": "display_data"
    }
   ],
   "source": [
    "line_plot(train.average, test.average, 'training', 'test', 'BTC')"
   ]
  },
  {
   "cell_type": "code",
   "execution_count": 21,
   "metadata": {},
   "outputs": [],
   "source": [
    "train, test, X_train, X_test, y_train, y_test = prepare_data(hist)"
   ]
  },
  {
   "cell_type": "code",
   "execution_count": null,
   "metadata": {},
   "outputs": [
    {
     "name": "stdout",
     "output_type": "stream",
     "text": [
      "Epoch 1/200\n",
      "1113/1113 [==============================] - 10s 9ms/step - loss: nan\n",
      "Epoch 2/200\n",
      "1113/1113 [==============================] - 8s 7ms/step - loss: nan\n",
      "Epoch 3/200\n",
      "1113/1113 [==============================] - 8s 7ms/step - loss: nan\n",
      "Epoch 4/200\n",
      "1113/1113 [==============================] - 812s 730ms/step - loss: nan\n",
      "Epoch 5/200\n",
      "1113/1113 [==============================] - 8s 8ms/step - loss: nan\n",
      "Epoch 6/200\n",
      "1113/1113 [==============================] - 8s 7ms/step - loss: nan\n",
      "Epoch 7/200\n",
      "1113/1113 [==============================] - 8s 7ms/step - loss: nan\n",
      "Epoch 8/200\n",
      "1113/1113 [==============================] - 8s 7ms/step - loss: nan\n",
      "Epoch 9/200\n",
      "1113/1113 [==============================] - 8s 7ms/step - loss: nan\n",
      "Epoch 10/200\n",
      "1113/1113 [==============================] - 8s 7ms/step - loss: nan\n",
      "Epoch 11/200\n",
      "1113/1113 [==============================] - 8s 7ms/step - loss: nan\n",
      "Epoch 12/200\n",
      "1113/1113 [==============================] - 8s 7ms/step - loss: nan\n",
      "Epoch 13/200\n",
      "1113/1113 [==============================] - 8s 7ms/step - loss: nan\n",
      "Epoch 14/200\n",
      "1113/1113 [==============================] - 8s 7ms/step - loss: nan\n",
      "Epoch 15/200\n",
      "1113/1113 [==============================] - 8s 7ms/step - loss: nan\n",
      "Epoch 16/200\n",
      "1113/1113 [==============================] - 8s 7ms/step - loss: nan\n",
      "Epoch 17/200\n",
      "1113/1113 [==============================] - 8s 7ms/step - loss: nan\n",
      "Epoch 18/200\n",
      "1113/1113 [==============================] - 8s 7ms/step - loss: nan\n",
      "Epoch 19/200\n",
      "1113/1113 [==============================] - 8s 7ms/step - loss: nan\n",
      "Epoch 20/200\n",
      "1113/1113 [==============================] - 8s 7ms/step - loss: nan\n",
      "Epoch 21/200\n",
      "1113/1113 [==============================] - 9s 8ms/step - loss: nan\n",
      "Epoch 22/200\n",
      "1113/1113 [==============================] - 8s 7ms/step - loss: nan\n",
      "Epoch 23/200\n",
      "1113/1113 [==============================] - 8s 7ms/step - loss: nan\n",
      "Epoch 24/200\n",
      "1113/1113 [==============================] - 8s 7ms/step - loss: nan\n",
      "Epoch 25/200\n",
      "1113/1113 [==============================] - 8s 7ms/step - loss: nan\n",
      "Epoch 26/200\n",
      "1113/1113 [==============================] - 9s 8ms/step - loss: nan\n",
      "Epoch 27/200\n",
      "1113/1113 [==============================] - 8s 7ms/step - loss: nan\n",
      "Epoch 28/200\n",
      "1113/1113 [==============================] - 8s 7ms/step - loss: nan\n",
      "Epoch 29/200\n",
      "1113/1113 [==============================] - 8s 7ms/step - loss: nan\n",
      "Epoch 30/200\n",
      "1113/1113 [==============================] - 8s 7ms/step - loss: nan\n",
      "Epoch 31/200\n",
      "1113/1113 [==============================] - 8s 7ms/step - loss: nan\n",
      "Epoch 32/200\n",
      "1113/1113 [==============================] - 8s 7ms/step - loss: nan\n",
      "Epoch 33/200\n",
      "1113/1113 [==============================] - 8s 8ms/step - loss: nan\n",
      "Epoch 34/200\n",
      "1113/1113 [==============================] - 9s 8ms/step - loss: nan\n",
      "Epoch 35/200\n",
      "1113/1113 [==============================] - 8s 7ms/step - loss: nan\n",
      "Epoch 36/200\n",
      "1113/1113 [==============================] - 8s 8ms/step - loss: nan\n",
      "Epoch 37/200\n",
      "1113/1113 [==============================] - 9s 8ms/step - loss: nan\n",
      "Epoch 38/200\n",
      "1113/1113 [==============================] - 9s 8ms/step - loss: nan\n",
      "Epoch 39/200\n",
      "1113/1113 [==============================] - 9s 8ms/step - loss: nan\n",
      "Epoch 40/200\n",
      "1113/1113 [==============================] - 8s 7ms/step - loss: nan\n",
      "Epoch 41/200\n",
      "1113/1113 [==============================] - 8s 7ms/step - loss: nan\n",
      "Epoch 42/200\n",
      "1113/1113 [==============================] - 8s 7ms/step - loss: nan\n",
      "Epoch 43/200\n",
      "1113/1113 [==============================] - 8s 7ms/step - loss: nan\n",
      "Epoch 44/200\n",
      "1113/1113 [==============================] - 8s 7ms/step - loss: nan\n",
      "Epoch 45/200\n",
      "1113/1113 [==============================] - 8s 7ms/step - loss: nan\n",
      "Epoch 46/200\n",
      "1113/1113 [==============================] - 8s 7ms/step - loss: nan\n",
      "Epoch 47/200\n",
      "1113/1113 [==============================] - 9s 8ms/step - loss: nan\n",
      "Epoch 48/200\n",
      "1113/1113 [==============================] - 8s 7ms/step - loss: nan\n",
      "Epoch 49/200\n",
      "1113/1113 [==============================] - 8s 7ms/step - loss: nan\n",
      "Epoch 50/200\n",
      " 756/1113 [===================>..........] - ETA: 2s - loss: nan"
     ]
    }
   ],
   "source": [
    "model = build_lstm_model(X_train, output_size=1)\n",
    "history = model.fit(X_train, y_train, epochs=200, batch_size=4)"
   ]
  },
  {
   "cell_type": "code",
   "execution_count": null,
   "metadata": {},
   "outputs": [],
   "source": [
    "target_col='average'\n",
    "window=14\n",
    "targets_pre = test[target_col][window-1:]\n",
    "targets = test[target_col][window:]"
   ]
  },
  {
   "cell_type": "code",
   "execution_count": null,
   "metadata": {},
   "outputs": [],
   "source": [
    "preds = model.predict(X_test).squeeze()\n",
    "# convert change predictions back to actual price\n",
    "preds = test.average.values[:-window] * (preds + 1)\n",
    "preds = pd.Series(index=targets.index, data=preds)\n",
    "n = 30\n",
    "line_plot(targets[-n:][:-1], preds[-n:].shift(-1), 'actual', 'prediction')"
   ]
  },
  {
   "cell_type": "code",
   "execution_count": null,
   "metadata": {},
   "outputs": [],
   "source": [
    "actual_returns = targets.pct_change()[1:]\n",
    "predicted_returns = preds.pct_change()[1:]"
   ]
  },
  {
   "cell_type": "code",
   "execution_count": null,
   "metadata": {},
   "outputs": [],
   "source": [
    "fig, (ax1, ax2) = plt.subplots(1, 2, figsize=(18, 9))\n",
    "# actual correlation\n",
    "corr = np.corrcoef(actual_returns, predicted_returns)[0][1]\n",
    "ax1.scatter(actual_returns, predicted_returns, color='k')\n",
    "ax1.set_title('r = {:.2f}'.format(corr), fontsize=18)\n",
    "# shifted correlation\n",
    "shifted_actual = actual_returns[:-1]\n",
    "shifted_predicted = predicted_returns.shift(-1).dropna()\n",
    "corr = np.corrcoef(shifted_actual, shifted_predicted)[0][1]\n",
    "ax2.scatter(shifted_actual, shifted_predicted, color='k')\n",
    "ax2.set_title('r = {:.2f}'.format(corr));"
   ]
  }
 ],
 "metadata": {
  "kernelspec": {
   "display_name": "Python 3",
   "language": "python",
   "name": "python3"
  },
  "language_info": {
   "codemirror_mode": {
    "name": "ipython",
    "version": 3
   },
   "file_extension": ".py",
   "mimetype": "text/x-python",
   "name": "python",
   "nbconvert_exporter": "python",
   "pygments_lexer": "ipython3",
   "version": "3.6.5"
  }
 },
 "nbformat": 4,
 "nbformat_minor": 2
}
